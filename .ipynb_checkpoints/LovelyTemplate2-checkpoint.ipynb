{
 "cells": [
  {
   "cell_type": "markdown",
   "metadata": {
    "extensions": {
     "jupyter_dashboards": {
      "version": 1,
      "views": {
       "grid_default": {
        "col": 0,
        "height": 4,
        "hidden": false,
        "row": 0,
        "width": 4
       },
       "report_default": {
        "hidden": false
       }
      }
     }
    },
    "hideCode": true,
    "hidePrompt": true
   },
   "source": [
    "# **Lovely Template**"
   ]
  },
  {
   "cell_type": "code",
   "execution_count": 1,
   "metadata": {
    "extensions": {
     "jupyter_dashboards": {
      "version": 1,
      "views": {
       "grid_default": {
        "col": 0,
        "height": 8,
        "hidden": false,
        "row": 4,
        "width": 12
       },
       "report_default": {
        "hidden": false
       }
      }
     }
    },
    "hideCode": true,
    "hidePrompt": true
   },
   "outputs": [
    {
     "data": {
      "text/html": [
       "<img src= \"http://www.ourlovely.com/img/imgTop.jpg\" style=\"width:600px;height:200px;\">"
      ],
      "text/plain": [
       "<IPython.core.display.HTML object>"
      ]
     },
     "metadata": {},
     "output_type": "display_data"
    }
   ],
   "source": [
    "%%HTML\n",
    "<img src= \"http://www.ourlovely.com/img/imgTop.jpg\" style=\"width:600px;height:200px;\">"
   ]
  },
  {
   "cell_type": "code",
   "execution_count": 2,
   "metadata": {
    "collapsed": true,
    "extensions": {
     "jupyter_dashboards": {
      "version": 1,
      "views": {
       "grid_default": {
        "hidden": true
       },
       "report_default": {
        "hidden": true
       }
      }
     }
    },
    "hideCode": false,
    "hidePrompt": true
   },
   "outputs": [],
   "source": [
    "import json\n",
    "f = open(\"jsonTemplate3.json\",\"r\")\n",
    "s = f.read()\n",
    "user = json.loads(s)"
   ]
  },
  {
   "cell_type": "code",
   "execution_count": 3,
   "metadata": {
    "collapsed": true,
    "extensions": {
     "jupyter_dashboards": {
      "version": 1,
      "views": {
       "grid_default": {},
       "report_default": {
        "hidden": true
       }
      }
     }
    },
    "hideCode": true,
    "hidePrompt": true
   },
   "outputs": [],
   "source": [
    "from ipywidgets import *\n",
    "from __future__ import print_function\n",
    "from IPython.core.display import display\n",
    "import ipywidgets as widgets"
   ]
  },
  {
   "cell_type": "markdown",
   "metadata": {
    "extensions": {
     "jupyter_dashboards": {
      "version": 1,
      "views": {
       "grid_default": {},
       "report_default": {
        "hidden": false
       }
      }
     }
    },
    "hideCode": true,
    "hidePrompt": true
   },
   "source": [
    "___"
   ]
  },
  {
   "cell_type": "markdown",
   "metadata": {
    "extensions": {
     "jupyter_dashboards": {
      "version": 1,
      "views": {
       "grid_default": {
        "col": 4,
        "height": 4,
        "hidden": false,
        "row": 0,
        "width": 4
       },
       "report_default": {
        "hidden": false
       }
      }
     }
    },
    "hideCode": true,
    "hidePrompt": true
   },
   "source": [
    "## Prepare Data Frame"
   ]
  },
  {
   "cell_type": "code",
   "execution_count": 20,
   "metadata": {
    "collapsed": true,
    "extensions": {
     "jupyter_dashboards": {
      "version": 1,
      "views": {
       "grid_default": {
        "hidden": true
       },
       "report_default": {
        "hidden": true
       }
      }
     }
    },
    "hideCode": true,
    "hidePrompt": true
   },
   "outputs": [],
   "source": [
    "import numpy as np\n",
    "import pandas as pd\n",
    "import matplotlib.pyplot as plt\n",
    "%matplotlib inline"
   ]
  },
  {
   "cell_type": "code",
   "execution_count": 21,
   "metadata": {
    "extensions": {
     "jupyter_dashboards": {
      "version": 1,
      "views": {
       "grid_default": {
        "col": 8,
        "height": 4,
        "hidden": false,
        "row": 0,
        "width": 4
       },
       "report_default": {
        "hidden": false
       }
      }
     }
    },
    "hideCode": true,
    "hidePrompt": true
   },
   "outputs": [
    {
     "name": "stdout",
     "output_type": "stream",
     "text": [
      "User Data \n"
     ]
    },
    {
     "data": {
      "text/html": [
       "<div>\n",
       "<style>\n",
       "    .dataframe thead tr:only-child th {\n",
       "        text-align: right;\n",
       "    }\n",
       "\n",
       "    .dataframe thead th {\n",
       "        text-align: left;\n",
       "    }\n",
       "\n",
       "    .dataframe tbody tr th {\n",
       "        vertical-align: top;\n",
       "    }\n",
       "</style>\n",
       "<table border=\"1\" class=\"dataframe\">\n",
       "  <thead>\n",
       "    <tr style=\"text-align: right;\">\n",
       "      <th></th>\n",
       "      <th>Age</th>\n",
       "      <th>Gender</th>\n",
       "      <th>Height</th>\n",
       "      <th>Nationality</th>\n",
       "    </tr>\n",
       "  </thead>\n",
       "  <tbody>\n",
       "    <tr>\n",
       "      <th>1</th>\n",
       "      <td>28</td>\n",
       "      <td>female</td>\n",
       "      <td>170</td>\n",
       "      <td>Italy</td>\n",
       "    </tr>\n",
       "  </tbody>\n",
       "</table>\n",
       "</div>"
      ],
      "text/plain": [
       "   Age  Gender  Height Nationality\n",
       "1   28  female     170       Italy"
      ]
     },
     "execution_count": 21,
     "metadata": {},
     "output_type": "execute_result"
    }
   ],
   "source": [
    "userData = pd.DataFrame({ 'Gender' : user['Gender'],\n",
    "                        'Age' : user['Age'],\n",
    "                         'Height' : user['Height'],\n",
    "                         'Nationality' : user['Country']\n",
    "                        },{1})\n",
    "print('User Data ')\n",
    "userData\n"
   ]
  },
  {
   "cell_type": "code",
   "execution_count": 6,
   "metadata": {
    "collapsed": true,
    "extensions": {
     "jupyter_dashboards": {
      "version": 1,
      "views": {
       "grid_default": {},
       "report_default": {
        "hidden": true
       }
      }
     }
    },
    "hideCode": true,
    "hidePrompt": true
   },
   "outputs": [],
   "source": [
    "l = np.arange(start=0,stop = len(user['Event']))\n",
    "y= list(l)\n",
    "eventSelection = widgets.Dropdown(\n",
    "    options=y,\n",
    "    value=0,\n",
    "    description='Event:',\n",
    "    disabled=False,\n",
    "    button_style='' # 'success', 'info', 'warning', 'danger' or ''\n",
    ")"
   ]
  },
  {
   "cell_type": "code",
   "execution_count": 7,
   "metadata": {
    "collapsed": true,
    "extensions": {
     "jupyter_dashboards": {
      "version": 1,
      "views": {
       "grid_default": {
        "col": 0,
        "height": 4,
        "hidden": false,
        "row": 12,
        "width": 4
       },
       "report_default": {
        "hidden": true
       }
      }
     }
    },
    "hideCode": true,
    "hidePrompt": true
   },
   "outputs": [],
   "source": [
    "BPM = (211.415-(0.5*user['Age'])-(0.02268*user['Weight'])+4.5)*0.5\n",
    "caloriesCoeff=(((user['Age']*0.202)+(user['Weight']*0.199)+(BPM*0.631)-55.1)*0.1196)\n",
    "j=0\n",
    "for x in user['Event']:\n",
    "    i=0\n",
    "    for x in user['Event'][j]['CaloriesPer30s']:\n",
    "        user['Event'][j]['CaloriesPer30s'][i]=0.01 * caloriesCoeff * user['Event'][j]['SpeedPer30s'][i]\n",
    "        i+=1\n",
    "    j+=1\n"
   ]
  },
  {
   "cell_type": "markdown",
   "metadata": {
    "extensions": {
     "jupyter_dashboards": {
      "version": 1,
      "views": {
       "grid_default": {},
       "report_default": {
        "hidden": false
       }
      }
     }
    },
    "hideCode": true,
    "hidePrompt": true
   },
   "source": [
    "___"
   ]
  },
  {
   "cell_type": "markdown",
   "metadata": {
    "extensions": {
     "jupyter_dashboards": {
      "version": 1,
      "views": {
       "grid_default": {},
       "report_default": {
        "hidden": false
       }
      }
     }
    },
    "hideCode": true,
    "hidePrompt": true
   },
   "source": [
    "# Events"
   ]
  },
  {
   "cell_type": "code",
   "execution_count": 8,
   "metadata": {
    "extensions": {
     "jupyter_dashboards": {
      "version": 1,
      "views": {
       "grid_default": {},
       "report_default": {
        "hidden": false
       }
      }
     }
    },
    "hideCode": false,
    "hidePrompt": true
   },
   "outputs": [
    {
     "name": "stdout",
     "output_type": "stream",
     "text": [
      "We have some events : 2 \n"
     ]
    }
   ],
   "source": [
    "eventsCounter = len(user['Event'])\n",
    "if(len(user['Event']) > 0):\n",
    "    print('We have some events : {} '.format(len(user['Event'])))\n",
    "else:\n",
    "    print('There is no events ')"
   ]
  },
  {
   "cell_type": "markdown",
   "metadata": {
    "extensions": {
     "jupyter_dashboards": {
      "version": 1,
      "views": {
       "grid_default": {},
       "report_default": {
        "hidden": false
       }
      }
     }
    },
    "hideCode": true,
    "hidePrompt": true
   },
   "source": [
    "___"
   ]
  },
  {
   "cell_type": "code",
   "execution_count": 9,
   "metadata": {
    "extensions": {
     "jupyter_dashboards": {
      "version": 1,
      "views": {
       "grid_default": {
        "hidden": true
       },
       "report_default": {
        "hidden": true
       }
      }
     }
    },
    "hideCode": true,
    "hidePrompt": true
   },
   "outputs": [
    {
     "name": "stdout",
     "output_type": "stream",
     "text": [
      "Event Number 2\n"
     ]
    },
    {
     "data": {
      "text/html": [
       "<div>\n",
       "<style>\n",
       "    .dataframe thead tr:only-child th {\n",
       "        text-align: right;\n",
       "    }\n",
       "\n",
       "    .dataframe thead th {\n",
       "        text-align: left;\n",
       "    }\n",
       "\n",
       "    .dataframe tbody tr th {\n",
       "        vertical-align: top;\n",
       "    }\n",
       "</style>\n",
       "<table border=\"1\" class=\"dataframe\">\n",
       "  <thead>\n",
       "    <tr style=\"text-align: right;\">\n",
       "      <th></th>\n",
       "      <th>PositionUsed</th>\n",
       "      <th>SatisfactionLevel</th>\n",
       "      <th>Wishes For Next Time</th>\n",
       "    </tr>\n",
       "  </thead>\n",
       "  <tbody>\n",
       "    <tr>\n",
       "      <th>1</th>\n",
       "      <td>3</td>\n",
       "      <td>5</td>\n",
       "      <td>8</td>\n",
       "    </tr>\n",
       "  </tbody>\n",
       "</table>\n",
       "</div>"
      ],
      "text/plain": [
       "   PositionUsed  SatisfactionLevel  Wishes For Next Time\n",
       "1             3                  5                     8"
      ]
     },
     "metadata": {},
     "output_type": "display_data"
    },
    {
     "data": {
      "text/plain": [
       "<matplotlib.axes._subplots.AxesSubplot at 0x772ebd0>"
      ]
     },
     "metadata": {},
     "output_type": "display_data"
    },
    {
     "data": {
      "text/plain": [
       "<matplotlib.axes._subplots.AxesSubplot at 0x77744b0>"
      ]
     },
     "metadata": {},
     "output_type": "display_data"
    },
    {
     "data": {
      "text/plain": [
       "<matplotlib.axes._subplots.AxesSubplot at 0x77f42b0>"
      ]
     },
     "metadata": {},
     "output_type": "display_data"
    },
    {
     "data": {
      "text/plain": [
       "<matplotlib.axes._subplots.AxesSubplot at 0x787b630>"
      ]
     },
     "metadata": {},
     "output_type": "display_data"
    },
    {
     "data": {
      "image/png": "[encoded data removed]",
      "text/plain": [
       "<matplotlib.figure.Figure at 0x772e5b0>"
      ]
     },
     "metadata": {},
     "output_type": "display_data"
    },
    {
     "data": {
      "image/png": "[encoded data removed]",
      "text/plain": [
       "<matplotlib.figure.Figure at 0x77bf650>"
      ]
     },
     "metadata": {},
     "output_type": "display_data"
    },
    {
     "data": {
      "image/png": "[encoded data removed]",
      "text/plain": [
       "<matplotlib.figure.Figure at 0x7825e50>"
      ]
     },
     "metadata": {},
     "output_type": "display_data"
    },
    {
     "data": {
      "image/png": "[encoded data removed]",
      "text/plain": [
       "<matplotlib.figure.Figure at 0x78973b0>"
      ]
     },
     "metadata": {},
     "output_type": "display_data"
    }
   ],
   "source": [
    "if(eventsCounter > 0):\n",
    "    eventUserData = pd.DataFrame({\n",
    "                               'PositionUsed':3,\n",
    "                               'SatisfactionLevel':5,\n",
    "                               'Wishes For Next Time': 8,\n",
    "                          },{1})\n",
    "    eventDuration = user['Event'][eventsCounter-1]['Duration']\n",
    "    eventMeasuredData  = pd.DataFrame({\n",
    "                           'CaloriesPerInterval' : user['Event'][eventsCounter-1]['CaloriesPer30s'],\n",
    "                           'SpeedPerInterval' :    user['Event'][eventsCounter-1]['SpeedPer30s'],\n",
    "                           'MaxOverloadPerInterval':user['Event'][eventsCounter-1]['OverloadsPer30s'],\n",
    "                           'MovesPerInterval': user['Event'][0]['MovesPer30s'],\n",
    "                           'Time': np.arange(start = 0, stop =eventDuration/2,step = 0.5)\n",
    "                    },index = np.arange(eventDuration))\n",
    "    time = np.arange(start = 0, stop =eventDuration/2,step = 0.5)\n",
    "    print('Event Number {}'.format(eventsCounter))\n",
    "    display(eventUserData)\n",
    "    display(eventMeasuredData.plot('Time','CaloriesPerInterval',title = 'Calories during intercourse'))\n",
    "    display(eventMeasuredData.plot('Time','SpeedPerInterval',title = 'Speed during intercourse'))\n",
    "    display(eventMeasuredData.plot('Time','MaxOverloadPerInterval',title = 'MaxOverloadPerInterval'))\n",
    "    display(eventMeasuredData.plot('Time','MovesPerInterval',title = 'Moves Per Interval'))"
   ]
  },
  {
   "cell_type": "markdown",
   "metadata": {
    "extensions": {
     "jupyter_dashboards": {
      "version": 1,
      "views": {
       "grid_default": {},
       "report_default": {
        "hidden": false
       }
      }
     }
    },
    "hideCode": true,
    "hidePrompt": true
   },
   "source": [
    "___"
   ]
  },
  {
   "cell_type": "code",
   "execution_count": 10,
   "metadata": {
    "extensions": {
     "jupyter_dashboards": {
      "version": 1,
      "views": {
       "grid_default": {
        "col": 8,
        "height": 11,
        "hidden": false,
        "row": 12,
        "width": 4
       },
       "report_default": {
        "hidden": false
       }
      }
     }
    },
    "hideCode": false,
    "hidePrompt": true
   },
   "outputs": [
    {
     "name": "stdout",
     "output_type": "stream",
     "text": [
      "Event Number 1\n"
     ]
    },
    {
     "data": {
      "text/html": [
       "<div>\n",
       "<style>\n",
       "    .dataframe thead tr:only-child th {\n",
       "        text-align: right;\n",
       "    }\n",
       "\n",
       "    .dataframe thead th {\n",
       "        text-align: left;\n",
       "    }\n",
       "\n",
       "    .dataframe tbody tr th {\n",
       "        vertical-align: top;\n",
       "    }\n",
       "</style>\n",
       "<table border=\"1\" class=\"dataframe\">\n",
       "  <thead>\n",
       "    <tr style=\"text-align: right;\">\n",
       "      <th></th>\n",
       "      <th>PositionUsed</th>\n",
       "      <th>SatisfactionLevel</th>\n",
       "      <th>Wishes For Next Time</th>\n",
       "    </tr>\n",
       "  </thead>\n",
       "  <tbody>\n",
       "    <tr>\n",
       "      <th>1</th>\n",
       "      <td>3</td>\n",
       "      <td>5</td>\n",
       "      <td>8</td>\n",
       "    </tr>\n",
       "  </tbody>\n",
       "</table>\n",
       "</div>"
      ],
      "text/plain": [
       "   PositionUsed  SatisfactionLevel  Wishes For Next Time\n",
       "1             3                  5                     8"
      ]
     },
     "metadata": {},
     "output_type": "display_data"
    },
    {
     "data": {
      "text/plain": [
       "<matplotlib.axes._subplots.AxesSubplot at 0x782f610>"
      ]
     },
     "metadata": {},
     "output_type": "display_data"
    },
    {
     "data": {
      "text/plain": [
       "<matplotlib.axes._subplots.AxesSubplot at 0x78e66d0>"
      ]
     },
     "metadata": {},
     "output_type": "display_data"
    },
    {
     "data": {
      "text/plain": [
       "<matplotlib.axes._subplots.AxesSubplot at 0x776d090>"
      ]
     },
     "metadata": {},
     "output_type": "display_data"
    },
    {
     "data": {
      "text/plain": [
       "<matplotlib.axes._subplots.AxesSubplot at 0x8942450>"
      ]
     },
     "metadata": {},
     "output_type": "display_data"
    },
    {
     "data": {
      "image/png": "[encoded data removed]",
      "text/plain": [
       "<matplotlib.figure.Figure at 0x7874290>"
      ]
     },
     "metadata": {},
     "output_type": "display_data"
    },
    {
     "data": {
      "image/png": "[encoded data removed]",
      "text/plain": [
       "<matplotlib.figure.Figure at 0x78dfd70>"
      ]
     },
     "metadata": {},
     "output_type": "display_data"
    },
    {
     "data": {
      "image/png": "[encoded data removed]",
      "text/plain": [
       "<matplotlib.figure.Figure at 0x77672b0>"
      ]
     },
     "metadata": {},
     "output_type": "display_data"
    },
    {
     "data": {
      "image/png": "[encoded data removed]",
      "text/plain": [
       "<matplotlib.figure.Figure at 0x894e990>"
      ]
     },
     "metadata": {},
     "output_type": "display_data"
    }
   ],
   "source": [
    "if((eventsCounter > 0) & (eventsCounter > 1)):\n",
    "    eventUserData = pd.DataFrame({\n",
    "                               'PositionUsed':3,\n",
    "                               'SatisfactionLevel':5,\n",
    "                               'Wishes For Next Time': 8,\n",
    "                          },{1})\n",
    "    eventDuration = user['Event'][eventsCounter - 2]['Duration']\n",
    "    eventMeasuredData  = pd.DataFrame({\n",
    "                           'CaloriesPerInterval' : user['Event'][eventsCounter - 2]['CaloriesPer30s'],\n",
    "                           'SpeedPerInterval' :    user['Event'][eventsCounter - 2]['SpeedPer30s'],\n",
    "                           'MaxOverloadPerInterval':user['Event'][eventsCounter - 2]['OverloadsPer30s'],\n",
    "                           'MovesPerInterval': user['Event'][eventsCounter - 2]['MovesPer30s'],\n",
    "                           'Time': np.arange(start = 0, stop =eventDuration/2,step = 0.5)\n",
    "                    },index = np.arange(eventDuration))\n",
    "    time = np.arange(start = 0, stop =eventDuration/2,step = 0.5)\n",
    "    print('Event Number {}'.format(eventsCounter-1))\n",
    "    display(eventUserData)\n",
    "    display(eventMeasuredData.plot('Time','CaloriesPerInterval',title = 'Calories during intercourse'))\n",
    "    display(eventMeasuredData.plot('Time','SpeedPerInterval',title = 'Speed during intercourse'))\n",
    "    display(eventMeasuredData.plot('Time','MaxOverloadPerInterval',title = 'MaxOverloadPerInterval'))\n",
    "    display(eventMeasuredData.plot('Time','MovesPerInterval',title = 'Moves Per Interval'))"
   ]
  },
  {
   "cell_type": "code",
   "execution_count": 11,
   "metadata": {
    "collapsed": true,
    "extensions": {
     "jupyter_dashboards": {
      "version": 1,
      "views": {
       "grid_default": {},
       "report_default": {
        "hidden": true
       }
      }
     }
    },
    "hideCode": true,
    "hidePrompt": true
   },
   "outputs": [],
   "source": [
    "if((eventsCounter > 0) & (eventsCounter > 2)):\n",
    "    eventUserData = pd.DataFrame({\n",
    "                               'PositionUsed':3,\n",
    "                               'SatisfactionLevel':5,\n",
    "                               'Wishes For Next Time': 8,\n",
    "                          },{1})\n",
    "    eventDuration = user['Event'][eventsCounter - 3]['Duration']\n",
    "    eventMeasuredData  = pd.DataFrame({\n",
    "                           'CaloriesPerInterval' : user['Event'][eventsCounter - 3]['CaloriesPer30s'],\n",
    "                           'SpeedPerInterval' :    user['Event'][eventsCounter - 3]['SpeedPer30s'],\n",
    "                           'MaxOverloadPerInterval':user['Event'][eventsCounter - 3]['OverloadsPer30s'],\n",
    "                           'MovesPerInterval': user['Event'][eventsCounter - 3]['MovesPer30s'],\n",
    "                           'Time': np.arange(start = 0, stop =eventDuration/2,step = 0.5)\n",
    "                    },index = np.arange(eventDuration))\n",
    "    time = np.arange(start = 0, stop =eventDuration/2,step = 0.5)\n",
    "    print('Event Number {}'.format(eventsCounter-2))\n",
    "    display(eventUserData)\n",
    "    display(eventMeasuredData.plot('Time','CaloriesPerInterval',title = 'Calories during intercourse'))\n",
    "    display(eventMeasuredData.plot('Time','SpeedPerInterval',title = 'Speed during intercourse'))\n",
    "    display(eventMeasuredData.plot('Time','MaxOverloadPerInterval',title = 'MaxOverloadPerInterval'))\n",
    "    display(eventMeasuredData.plot('Time','MovesPerInterval',title = 'Moves Per Interval'))"
   ]
  },
  {
   "cell_type": "code",
   "execution_count": 12,
   "metadata": {
    "collapsed": true,
    "extensions": {
     "jupyter_dashboards": {
      "version": 1,
      "views": {
       "grid_default": {},
       "report_default": {
        "hidden": true
       }
      }
     }
    },
    "hideCode": true,
    "hidePrompt": true
   },
   "outputs": [],
   "source": [
    "if((eventsCounter > 0) & (eventsCounter > 3)):\n",
    "    eventUserData = pd.DataFrame({\n",
    "                               'PositionUsed':3,\n",
    "                               'SatisfactionLevel':5,\n",
    "                               'Wishes For Next Time': 8,\n",
    "                          },{1})\n",
    "    eventDuration = user['Event'][eventsCounter - 4]['Duration']\n",
    "    eventMeasuredData  = pd.DataFrame({\n",
    "                           'CaloriesPerInterval' : user['Event'][eventsCounter - 4]['CaloriesPer30s'],\n",
    "                           'SpeedPerInterval' :    user['Event'][eventsCounter - 4]['SpeedPer30s'],\n",
    "                           'MaxOverloadPerInterval':user['Event'][eventsCounter - 4]['OverloadsPer30s'],\n",
    "                           'MovesPerInterval': user['Event'][eventsCounter - 4]['MovesPer30s'],\n",
    "                           'Time': np.arange(start = 0, stop =eventDuration/2,step = 0.5)\n",
    "                    },index = np.arange(eventDuration))\n",
    "    time = np.arange(start = 0, stop =eventDuration/2,step = 0.5)\n",
    "    print('Event Number {}'.format(eventsCounter-3))\n",
    "    display(eventUserData)\n",
    "    display(eventMeasuredData.plot('Time','CaloriesPerInterval',title = 'Calories during intercourse'))\n",
    "    display(eventMeasuredData.plot('Time','SpeedPerInterval',title = 'Speed during intercourse'))\n",
    "    display(eventMeasuredData.plot('Time','MaxOverloadPerInterval',title = 'MaxOverloadPerInterval'))\n",
    "    display(eventMeasuredData.plot('Time','MovesPerInterval',title = 'Moves Per Interval'))"
   ]
  },
  {
   "cell_type": "code",
   "execution_count": 13,
   "metadata": {
    "collapsed": true,
    "extensions": {
     "jupyter_dashboards": {
      "version": 1,
      "views": {
       "grid_default": {},
       "report_default": {
        "hidden": true
       }
      }
     }
    },
    "hideCode": true,
    "hidePrompt": true
   },
   "outputs": [],
   "source": [
    "if((eventsCounter > 0) & (eventsCounter > 4)):\n",
    "    eventUserData = pd.DataFrame({\n",
    "                               'PositionUsed':3,\n",
    "                               'SatisfactionLevel':5,\n",
    "                               'Wishes For Next Time': 8,\n",
    "                          },{1})\n",
    "    eventDuration = user['Event'][eventsCounter - 5]['Duration']\n",
    "    eventMeasuredData  = pd.DataFrame({\n",
    "                           'CaloriesPerInterval' : user['Event'][eventsCounter - 5]['CaloriesPer30s'],\n",
    "                           'SpeedPerInterval' :    user['Event'][eventsCounter - 5]['SpeedPer30s'],\n",
    "                           'MaxOverloadPerInterval':user['Event'][eventsCounter - 5]['OverloadsPer30s'],\n",
    "                           'MovesPerInterval': user['Event'][eventsCounter - 5]['MovesPer30s'],\n",
    "                           'Time': np.arange(start = 0, stop =eventDuration/2,step = 0.5)\n",
    "                    },index = np.arange(eventDuration))\n",
    "    time = np.arange(start = 0, stop =eventDuration/2,step = 0.5)\n",
    "    print('Event Number {}'.format(eventsCounter-4))\n",
    "    display(eventUserData)\n",
    "    display(eventMeasuredData.plot('Time','CaloriesPerInterval',title = 'Calories during intercourse'))\n",
    "    display(eventMeasuredData.plot('Time','SpeedPerInterval',title = 'Speed during intercourse'))\n",
    "    display(eventMeasuredData.plot('Time','MaxOverloadPerInterval',title = 'MaxOverloadPerInterval'))\n",
    "    display(eventMeasuredData.plot('Time','MovesPerInterval',title = 'Moves Per Interval'))"
   ]
  },
  {
   "cell_type": "markdown",
   "metadata": {
    "extensions": {
     "jupyter_dashboards": {
      "version": 1,
      "views": {
       "grid_default": {
        "col": 4,
        "height": 4,
        "hidden": false,
        "row": 24,
        "width": 4
       },
       "report_default": {
        "hidden": false
       }
      }
     }
    },
    "hideCode": true,
    "hidePrompt": true
   },
   "source": [
    "# Another way of plotting"
   ]
  },
  {
   "cell_type": "code",
   "execution_count": 14,
   "metadata": {
    "collapsed": true,
    "extensions": {
     "jupyter_dashboards": {
      "version": 1,
      "views": {
       "grid_default": {
        "hidden": true
       },
       "report_default": {
        "hidden": true
       }
      }
     }
    },
    "hideCode": false,
    "hidePrompt": false
   },
   "outputs": [],
   "source": [
    "import plotly as py\n",
    "py.tools.set_credentials_file(username='ro.rente', api_key='4LYZjTkM8FqVhgke7U4e')"
   ]
  },
  {
   "cell_type": "code",
   "execution_count": 15,
   "metadata": {
    "extensions": {
     "jupyter_dashboards": {
      "version": 1,
      "views": {
       "grid_default": {
        "col": 4,
        "height": 4,
        "hidden": false,
        "row": 28,
        "width": 4
       },
       "report_default": {
        "hidden": false
       }
      }
     }
    },
    "hideCode": false,
    "hidePrompt": false
   },
   "outputs": [
    {
     "name": "stdout",
     "output_type": "stream",
     "text": [
      "0.8.2\n"
     ]
    }
   ],
   "source": [
    "import plotly.plotly as py\n",
    "import plotly.tools as tls\n",
    "from plotly.graph_objs import *\n",
    "\n",
    "tls.embed('https://plot.ly/~cufflinks/8')\n",
    "import cufflinks as cf\n",
    "print (cf.__version__)"
   ]
  },
  {
   "cell_type": "code",
   "execution_count": 22,
   "metadata": {
    "extensions": {
     "jupyter_dashboards": {
      "version": 1,
      "views": {
       "grid_default": {
        "col": 0,
        "height": 19,
        "hidden": false,
        "row": 31,
        "width": 4
       },
       "report_default": {
        "hidden": false
       }
      }
     }
    },
    "hideCode": false,
    "hidePrompt": false
   },
   "outputs": [
    {
     "data": {
      "text/html": [
       "<iframe id=\"igraph\" scrolling=\"no\" style=\"border:none;\" seamless=\"seamless\" src=\"https://plot.ly/~ro.rente/5.embed\" height=\"525px\" width=\"100%\"></iframe>"
      ],
      "text/plain": [
       "<plotly.tools.PlotlyDisplay object>"
      ]
     },
     "execution_count": 22,
     "metadata": {},
     "output_type": "execute_result"
    }
   ],
   "source": [
    "data  = pd.DataFrame({\n",
    "                           'CaloriesPerInterval' : user['Event'][0]['CaloriesPer30s'],\n",
    "                           'SpeedPerInterval' :    user['Event'][0]['SpeedPer30s'],\n",
    "                           'MaxOverloadPerInterval':user['Event'][0]['OverloadsPer30s'],\n",
    "                           'MovesPerInterval': user['Event'][0]['MovesPer30s'],\n",
    "                           'Time':np.arange(start = 0, stop =eventDuration/2,step = 0.5)\n",
    "                    },index = np.arange(eventDuration))#.cumsum()\n",
    "data.iplot(x= 'Time',y = 'CaloriesPerInterval',title = 'Calories',filename='line-example',xTitle = 'time[s]',yTitle = 'Calories[kCal]')\n"
   ]
  },
  {
   "cell_type": "code",
   "execution_count": 17,
   "metadata": {
    "extensions": {
     "jupyter_dashboards": {
      "version": 1,
      "views": {
       "grid_default": {
        "col": 4,
        "height": 19,
        "hidden": false,
        "row": 32,
        "width": 4
       },
       "report_default": {
        "hidden": false
       }
      }
     }
    },
    "hideCode": false,
    "hidePrompt": false
   },
   "outputs": [
    {
     "data": {
      "text/html": [
       "<iframe id=\"igraph\" scrolling=\"no\" style=\"border:none;\" seamless=\"seamless\" src=\"https://plot.ly/~ro.rente/5.embed\" height=\"525px\" width=\"100%\"></iframe>"
      ],
      "text/plain": [
       "<plotly.tools.PlotlyDisplay object>"
      ]
     },
     "execution_count": 17,
     "metadata": {},
     "output_type": "execute_result"
    }
   ],
   "source": [
    "data.iplot(x= 'Time',y = 'SpeedPerInterval',title = 'Speed Per Interval',filename='line-example',xTitle = 'Time[s]',yTitle = 'Speed[cm/s]')"
   ]
  },
  {
   "cell_type": "code",
   "execution_count": 23,
   "metadata": {
    "extensions": {
     "jupyter_dashboards": {
      "version": 1,
      "views": {
       "grid_default": {
        "col": 8,
        "height": 19,
        "hidden": false,
        "row": 34,
        "width": 4
       },
       "report_default": {
        "hidden": false
       }
      }
     }
    },
    "hideCode": false,
    "hidePrompt": false
   },
   "outputs": [
    {
     "data": {
      "text/html": [
       "<iframe id=\"igraph\" scrolling=\"no\" style=\"border:none;\" seamless=\"seamless\" src=\"https://plot.ly/~ro.rente/5.embed\" height=\"525px\" width=\"100%\"></iframe>"
      ],
      "text/plain": [
       "<plotly.tools.PlotlyDisplay object>"
      ]
     },
     "execution_count": 23,
     "metadata": {},
     "output_type": "execute_result"
    }
   ],
   "source": [
    "data.iplot(x= 'Time',y = 'MaxOverloadPerInterval',title = 'MaxOverload Per Interval',filename='line-example',yTitle = 'GForce[mg]',xTitle = 'time[s]')"
   ]
  },
  {
   "cell_type": "code",
   "execution_count": 24,
   "metadata": {
    "extensions": {
     "jupyter_dashboards": {
      "version": 1,
      "views": {
       "grid_default": {
        "col": 0,
        "height": 19,
        "hidden": false,
        "row": 50,
        "width": 4
       },
       "report_default": {
        "hidden": false
       }
      }
     }
    },
    "hideCode": false,
    "hidePrompt": false
   },
   "outputs": [
    {
     "data": {
      "text/html": [
       "<iframe id=\"igraph\" scrolling=\"no\" style=\"border:none;\" seamless=\"seamless\" src=\"https://plot.ly/~ro.rente/5.embed\" height=\"525px\" width=\"100%\"></iframe>"
      ],
      "text/plain": [
       "<plotly.tools.PlotlyDisplay object>"
      ]
     },
     "execution_count": 24,
     "metadata": {},
     "output_type": "execute_result"
    }
   ],
   "source": [
    "data.iplot(x= 'Time',y = 'MovesPerInterval',title = 'Moves Per Interval',filename='line-example',xTitle = 'time[s]',yTitle = 'Moves[counts]')"
   ]
  },
  {
   "cell_type": "code",
   "execution_count": null,
   "metadata": {
    "collapsed": true,
    "extensions": {
     "jupyter_dashboards": {
      "version": 1,
      "views": {
       "grid_default": {},
       "report_default": {
        "hidden": true
       }
      }
     }
    },
    "hideCode": false,
    "hidePrompt": false
   },
   "outputs": [],
   "source": []
  },
  {
   "cell_type": "code",
   "execution_count": null,
   "metadata": {
    "collapsed": true,
    "extensions": {
     "jupyter_dashboards": {
      "version": 1,
      "views": {
       "grid_default": {},
       "report_default": {
        "hidden": true
       }
      }
     }
    },
    "hideCode": false,
    "hidePrompt": false
   },
   "outputs": [],
   "source": []
  }
 ],
 "metadata": {
  "celltoolbar": "Hide code",
  "extensions": {
   "jupyter_dashboards": {
    "activeView": "report_default",
    "version": 1,
    "views": {
     "grid_default": {
      "cellMargin": 10,
      "defaultCellHeight": 20,
      "maxColumns": 12,
      "name": "grid",
      "type": "grid"
     },
     "report_default": {
      "name": "report",
      "type": "report"
     }
    }
   }
  },
  "hide_code_all_hidden": false,
  "kernelspec": {
   "display_name": "Python 3",
   "language": "python",
   "name": "python3"
  },
  "language_info": {
   "codemirror_mode": {
    "name": "ipython",
    "version": 3
   },
   "file_extension": ".py",
   "mimetype": "text/x-python",
   "name": "python",
   "nbconvert_exporter": "python",
   "pygments_lexer": "ipython3",
   "version": "3.6.1"
  },
  "widgets": {
   "application/vnd.jupyter.widget-state+json": {
    "state": {
     "01ce7c191ad64a1e8070e68194c6ca59": {
      "model_module": "jupyter-js-widgets",
      "model_module_version": "~2.1.4",
      "model_name": "ButtonStyleModel",
      "state": {
       "_model_module_version": "~2.1.4",
       "_view_module_version": "~2.1.4"
      }
     },
     "32a86a93174f4ca09015be4d667e3403": {
      "model_module": "jupyter-js-widgets",
      "model_module_version": "~2.1.4",
      "model_name": "IntSliderModel",
      "state": {
       "_model_module_version": "~2.1.4",
       "_view_module_version": "~2.1.4",
       "layout": "IPY_MODEL_3f62c489019e419782998402973f44b6",
       "max": 30,
       "min": -10,
       "style": "IPY_MODEL_6840cc5e52b14aa69c647733020d3cab",
       "value": -10
      }
     },
     "3f2c9226b92a44a6880702236745c478": {
      "model_module": "jupyter-js-widgets",
      "model_module_version": "~2.1.4",
      "model_name": "FloatSliderModel",
      "state": {
       "_model_module_version": "~2.1.4",
       "_view_module_version": "~2.1.4",
       "description": "Input : ",
       "layout": "IPY_MODEL_f2dd548b0b7d4a92b955fdcdc41738ab",
       "max": 10,
       "step": 0.1,
       "value": 5
      }
     },
     "3f62c489019e419782998402973f44b6": {
      "model_module": "jupyter-js-widgets",
      "model_module_version": "~2.1.4",
      "model_name": "LayoutModel",
      "state": {
       "_model_module_version": "~2.1.4",
       "_view_module_version": "~2.1.4"
      }
     },
     "6840cc5e52b14aa69c647733020d3cab": {
      "model_module": "jupyter-js-widgets",
      "model_module_version": "~2.1.4",
      "model_name": "SliderStyleModel",
      "state": {
       "_model_module_version": "~2.1.4",
       "_view_module_version": "~2.1.4"
      }
     },
     "89300e627eb34015b261e384b4c43f97": {
      "model_module": "jupyter-js-widgets",
      "model_module_version": "~2.1.4",
      "model_name": "LayoutModel",
      "state": {
       "_model_module_version": "~2.1.4",
       "_view_module_version": "~2.1.4"
      }
     },
     "895ea16546c94f26a8692f9ae1b2505e": {
      "model_module": "jupyter-js-widgets",
      "model_module_version": "~2.1.4",
      "model_name": "ButtonModel",
      "state": {
       "_model_module_version": "~2.1.4",
       "_view_module_version": "~2.1.4",
       "description": "Click Me!",
       "layout": "IPY_MODEL_ec9dbe1c29844640bd5cec7e3d879123",
       "style": "IPY_MODEL_9cea5bd133574554920da35851f253b2"
      }
     },
     "9bd233406dde480f9cab6554079d0612": {
      "model_module": "jupyter-js-widgets",
      "model_module_version": "~2.1.4",
      "model_name": "ButtonModel",
      "state": {
       "_model_module_version": "~2.1.4",
       "_view_module_version": "~2.1.4",
       "description": "Click Me!",
       "layout": "IPY_MODEL_89300e627eb34015b261e384b4c43f97",
       "style": "IPY_MODEL_01ce7c191ad64a1e8070e68194c6ca59"
      }
     },
     "9cea5bd133574554920da35851f253b2": {
      "model_module": "jupyter-js-widgets",
      "model_module_version": "~2.1.4",
      "model_name": "ButtonStyleModel",
      "state": {
       "_model_module_version": "~2.1.4",
       "_view_module_version": "~2.1.4"
      }
     },
     "a0150217b00249d68092fd1844f82362": {
      "model_module": "jupyter-js-widgets",
      "model_module_version": "~2.1.4",
      "model_name": "FloatSliderModel",
      "state": {
       "_model_module_version": "~2.1.4",
       "_view_module_version": "~2.1.4",
       "description": "Input : ",
       "layout": "IPY_MODEL_c43f59391cf6462c940db0ed1dd76d48",
       "max": 10,
       "step": 0.1,
       "value": 5
      }
     },
     "c43f59391cf6462c940db0ed1dd76d48": {
      "model_module": "jupyter-js-widgets",
      "model_module_version": "~2.1.4",
      "model_name": "LayoutModel",
      "state": {
       "_model_module_version": "~2.1.4",
       "_view_module_version": "~2.1.4"
      }
     },
     "ec9dbe1c29844640bd5cec7e3d879123": {
      "model_module": "jupyter-js-widgets",
      "model_module_version": "~2.1.4",
      "model_name": "LayoutModel",
      "state": {
       "_model_module_version": "~2.1.4",
       "_view_module_version": "~2.1.4"
      }
     },
     "f2dd548b0b7d4a92b955fdcdc41738ab": {
      "model_module": "jupyter-js-widgets",
      "model_module_version": "~2.1.4",
      "model_name": "LayoutModel",
      "state": {
       "_model_module_version": "~2.1.4",
       "_view_module_version": "~2.1.4"
      }
     }
    },
    "version_major": 1,
    "version_minor": 0
   }
  }
 },
 "nbformat": 4,
 "nbformat_minor": 2
}
